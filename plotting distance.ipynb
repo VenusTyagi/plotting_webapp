{
 "cells": [
  {
   "cell_type": "markdown",
   "metadata": {},
   "source": [
    "# Plotting for AR \n",
    "\n",
    "The project is to plot different asssets like Sticks, BlueDrums, RedDrums"
   ]
  },
  {
   "cell_type": "code",
   "execution_count": 104,
   "metadata": {},
   "outputs": [],
   "source": [
    "import pandas as pd  ##pandas is dataframe (data cleaning add new clumns, clean the columns)\n",
    "import numpy as np ## nUmpy is an array\n",
    "import matplotlib.pyplot as plt ##visualisation\n",
    "import seaborn as sns ##also for visualisation (better looking)\n",
    "import json\n",
    "\n",
    "sns.set()"
   ]
  },
  {
   "cell_type": "markdown",
   "metadata": {},
   "source": [
    "#### Loading data from JSON"
   ]
  },
  {
   "cell_type": "code",
   "execution_count": 105,
   "metadata": {},
   "outputs": [
    {
     "name": "stdout",
     "output_type": "stream",
     "text": [
      "The data is  dict_keys(['UserName', 'CorrectMoves', 'Feedback', 'markerEvents', 'moves'])\n"
     ]
    }
   ],
   "source": [
    "\n",
    "with open('ms1609025.json') as f:\n",
    "    data = json.load(f)\n",
    "    \n",
    "print (\"The data is \", data.keys())"
   ]
  },
  {
   "cell_type": "code",
   "execution_count": 108,
   "metadata": {},
   "outputs": [],
   "source": [
    "moves = data['moves']"
   ]
  },
  {
   "cell_type": "markdown",
   "metadata": {},
   "source": [
    "Method to convert Unix to Datetime"
   ]
  },
  {
   "cell_type": "code",
   "execution_count": 107,
   "metadata": {},
   "outputs": [
    {
     "name": "stdout",
     "output_type": "stream",
     "text": [
      "2020-10-26 08:43:05\n"
     ]
    }
   ],
   "source": [
    "### simple code to convert unix into datetime\n",
    "from datetime import datetime\n",
    "ts = int(\"1603701785\")\n",
    "\n",
    "# if you encounter a \"year is out of range\" error the timestamp\n",
    "# may be in milliseconds, try `ts /= 1000` in that case\n",
    "print(datetime.utcfromtimestamp(ts).strftime('%Y-%m-%d %H:%M:%S'))"
   ]
  },
  {
   "cell_type": "code",
   "execution_count": 7,
   "metadata": {},
   "outputs": [
    {
     "data": {
      "text/plain": [
       "10"
      ]
     },
     "execution_count": 7,
     "metadata": {},
     "output_type": "execute_result"
    }
   ],
   "source": [
    "len(moves) ## len tells the number of elements in that variable"
   ]
  },
  {
   "cell_type": "markdown",
   "metadata": {},
   "source": [
    "#### Plot for all moves\n",
    "The following code is used to plot for all the 8 moves together."
   ]
  },
  {
   "cell_type": "code",
   "execution_count": 110,
   "metadata": {},
   "outputs": [],
   "source": [
    "##To plot for all moves together\n",
    "bludrumposition = pd.DataFrame()\n",
    "RedDrumPositions = pd.DataFrame()\n",
    "StickPositions = pd.DataFrame()\n",
    "\n",
    "for pos in range(len(moves)):\n",
    "    \n",
    "    bludrumposition = bludrumposition.append(pd.DataFrame(moves[pos]['BlueDrumPositions']))\n",
    "    RedDrumPositions = RedDrumPositions.append(pd.DataFrame(moves[pos]['RedDrumPositions']))\n",
    "    StickPositions = StickPositions.append(pd.DataFrame(moves[pos]['StickPositions']))\n",
    "    \n",
    "bludrumposition.reset_index(drop=True, inplace=True)\n",
    "RedDrumPositions.reset_index(drop=True, inplace=True)\n",
    "StickPositions.reset_index(drop=True, inplace=True)"
   ]
  },
  {
   "cell_type": "code",
   "execution_count": 118,
   "metadata": {},
   "outputs": [
    {
     "data": {
      "text/html": [
       "<div>\n",
       "<style scoped>\n",
       "    .dataframe tbody tr th:only-of-type {\n",
       "        vertical-align: middle;\n",
       "    }\n",
       "\n",
       "    .dataframe tbody tr th {\n",
       "        vertical-align: top;\n",
       "    }\n",
       "\n",
       "    .dataframe thead th {\n",
       "        text-align: right;\n",
       "    }\n",
       "</style>\n",
       "<table border=\"1\" class=\"dataframe\">\n",
       "  <thead>\n",
       "    <tr style=\"text-align: right;\">\n",
       "      <th></th>\n",
       "      <th>corr_time</th>\n",
       "      <th>x</th>\n",
       "      <th>y</th>\n",
       "      <th>z</th>\n",
       "    </tr>\n",
       "  </thead>\n",
       "  <tbody>\n",
       "    <tr>\n",
       "      <th>0</th>\n",
       "      <td>0.138</td>\n",
       "      <td>-1.490000</td>\n",
       "      <td>0.000000</td>\n",
       "      <td>-0.013000</td>\n",
       "    </tr>\n",
       "    <tr>\n",
       "      <th>1</th>\n",
       "      <td>0.143</td>\n",
       "      <td>-1.490000</td>\n",
       "      <td>0.000000</td>\n",
       "      <td>-0.013000</td>\n",
       "    </tr>\n",
       "    <tr>\n",
       "      <th>2</th>\n",
       "      <td>0.164</td>\n",
       "      <td>-1.490000</td>\n",
       "      <td>0.000000</td>\n",
       "      <td>-0.013000</td>\n",
       "    </tr>\n",
       "    <tr>\n",
       "      <th>3</th>\n",
       "      <td>0.197</td>\n",
       "      <td>-1.490000</td>\n",
       "      <td>0.000000</td>\n",
       "      <td>-0.013000</td>\n",
       "    </tr>\n",
       "    <tr>\n",
       "      <th>4</th>\n",
       "      <td>0.231</td>\n",
       "      <td>-1.490000</td>\n",
       "      <td>0.000000</td>\n",
       "      <td>-0.013000</td>\n",
       "    </tr>\n",
       "    <tr>\n",
       "      <th>...</th>\n",
       "      <td>...</td>\n",
       "      <td>...</td>\n",
       "      <td>...</td>\n",
       "      <td>...</td>\n",
       "    </tr>\n",
       "    <tr>\n",
       "      <th>1479</th>\n",
       "      <td>76.578</td>\n",
       "      <td>0.628591</td>\n",
       "      <td>-1.010340</td>\n",
       "      <td>4.594260</td>\n",
       "    </tr>\n",
       "    <tr>\n",
       "      <th>1480</th>\n",
       "      <td>76.611</td>\n",
       "      <td>0.598923</td>\n",
       "      <td>-1.012431</td>\n",
       "      <td>4.552535</td>\n",
       "    </tr>\n",
       "    <tr>\n",
       "      <th>1481</th>\n",
       "      <td>76.645</td>\n",
       "      <td>0.575113</td>\n",
       "      <td>-1.001750</td>\n",
       "      <td>4.524353</td>\n",
       "    </tr>\n",
       "    <tr>\n",
       "      <th>1482</th>\n",
       "      <td>76.678</td>\n",
       "      <td>0.538717</td>\n",
       "      <td>-1.008595</td>\n",
       "      <td>4.501482</td>\n",
       "    </tr>\n",
       "    <tr>\n",
       "      <th>1464</th>\n",
       "      <td>76.780</td>\n",
       "      <td>0.907819</td>\n",
       "      <td>-0.446356</td>\n",
       "      <td>5.206241</td>\n",
       "    </tr>\n",
       "  </tbody>\n",
       "</table>\n",
       "<p>1483 rows × 4 columns</p>\n",
       "</div>"
      ],
      "text/plain": [
       "      corr_time         x         y         z\n",
       "0         0.138 -1.490000  0.000000 -0.013000\n",
       "1         0.143 -1.490000  0.000000 -0.013000\n",
       "2         0.164 -1.490000  0.000000 -0.013000\n",
       "3         0.197 -1.490000  0.000000 -0.013000\n",
       "4         0.231 -1.490000  0.000000 -0.013000\n",
       "...         ...       ...       ...       ...\n",
       "1479     76.578  0.628591 -1.010340  4.594260\n",
       "1480     76.611  0.598923 -1.012431  4.552535\n",
       "1481     76.645  0.575113 -1.001750  4.524353\n",
       "1482     76.678  0.538717 -1.008595  4.501482\n",
       "1464     76.780  0.907819 -0.446356  5.206241\n",
       "\n",
       "[1483 rows x 4 columns]"
      ]
     },
     "execution_count": 118,
     "metadata": {},
     "output_type": "execute_result"
    }
   ],
   "source": [
    "StickPositions"
   ]
  },
  {
   "cell_type": "markdown",
   "metadata": {},
   "source": [
    "#### Plot for just one move\n",
    "The number of move `num_move` = 0"
   ]
  },
  {
   "cell_type": "code",
   "execution_count": 136,
   "metadata": {},
   "outputs": [],
   "source": [
    "num_move = 0\n",
    "StickPositions = pd.DataFrame(moves[num_move]['StickPositions'])\n",
    "RedDrumPositions = pd.DataFrame(moves[num_move]['RedDrumPositions'])\n",
    "bludrumposition = pd.DataFrame(moves[num_move]['BlueDrumPositions'])"
   ]
  },
  {
   "cell_type": "code",
   "execution_count": 142,
   "metadata": {},
   "outputs": [
    {
     "data": {
      "text/html": [
       "<div>\n",
       "<style scoped>\n",
       "    .dataframe tbody tr th:only-of-type {\n",
       "        vertical-align: middle;\n",
       "    }\n",
       "\n",
       "    .dataframe tbody tr th {\n",
       "        vertical-align: top;\n",
       "    }\n",
       "\n",
       "    .dataframe thead th {\n",
       "        text-align: right;\n",
       "    }\n",
       "</style>\n",
       "<table border=\"1\" class=\"dataframe\">\n",
       "  <thead>\n",
       "    <tr style=\"text-align: right;\">\n",
       "      <th></th>\n",
       "      <th>corr_time</th>\n",
       "      <th>x</th>\n",
       "      <th>y</th>\n",
       "      <th>z</th>\n",
       "    </tr>\n",
       "  </thead>\n",
       "  <tbody>\n",
       "    <tr>\n",
       "      <th>0</th>\n",
       "      <td>0.138</td>\n",
       "      <td>-1.490000</td>\n",
       "      <td>0.000000</td>\n",
       "      <td>-0.013000</td>\n",
       "    </tr>\n",
       "    <tr>\n",
       "      <th>1</th>\n",
       "      <td>0.143</td>\n",
       "      <td>-1.490000</td>\n",
       "      <td>0.000000</td>\n",
       "      <td>-0.013000</td>\n",
       "    </tr>\n",
       "    <tr>\n",
       "      <th>2</th>\n",
       "      <td>0.164</td>\n",
       "      <td>-1.490000</td>\n",
       "      <td>0.000000</td>\n",
       "      <td>-0.013000</td>\n",
       "    </tr>\n",
       "    <tr>\n",
       "      <th>3</th>\n",
       "      <td>0.197</td>\n",
       "      <td>-1.490000</td>\n",
       "      <td>0.000000</td>\n",
       "      <td>-0.013000</td>\n",
       "    </tr>\n",
       "    <tr>\n",
       "      <th>4</th>\n",
       "      <td>0.231</td>\n",
       "      <td>-1.490000</td>\n",
       "      <td>0.000000</td>\n",
       "      <td>-0.013000</td>\n",
       "    </tr>\n",
       "    <tr>\n",
       "      <th>...</th>\n",
       "      <td>...</td>\n",
       "      <td>...</td>\n",
       "      <td>...</td>\n",
       "      <td>...</td>\n",
       "    </tr>\n",
       "    <tr>\n",
       "      <th>217</th>\n",
       "      <td>7.347</td>\n",
       "      <td>0.364966</td>\n",
       "      <td>-1.153557</td>\n",
       "      <td>4.313080</td>\n",
       "    </tr>\n",
       "    <tr>\n",
       "      <th>218</th>\n",
       "      <td>7.380</td>\n",
       "      <td>0.368511</td>\n",
       "      <td>-1.183940</td>\n",
       "      <td>4.371044</td>\n",
       "    </tr>\n",
       "    <tr>\n",
       "      <th>219</th>\n",
       "      <td>7.414</td>\n",
       "      <td>0.386295</td>\n",
       "      <td>-1.197218</td>\n",
       "      <td>4.421756</td>\n",
       "    </tr>\n",
       "    <tr>\n",
       "      <th>208</th>\n",
       "      <td>7.450</td>\n",
       "      <td>0.449195</td>\n",
       "      <td>-0.864699</td>\n",
       "      <td>3.824955</td>\n",
       "    </tr>\n",
       "    <tr>\n",
       "      <th>209</th>\n",
       "      <td>7.800</td>\n",
       "      <td>0.421266</td>\n",
       "      <td>-0.891147</td>\n",
       "      <td>3.854178</td>\n",
       "    </tr>\n",
       "  </tbody>\n",
       "</table>\n",
       "<p>220 rows × 4 columns</p>\n",
       "</div>"
      ],
      "text/plain": [
       "     corr_time         x         y         z\n",
       "0        0.138 -1.490000  0.000000 -0.013000\n",
       "1        0.143 -1.490000  0.000000 -0.013000\n",
       "2        0.164 -1.490000  0.000000 -0.013000\n",
       "3        0.197 -1.490000  0.000000 -0.013000\n",
       "4        0.231 -1.490000  0.000000 -0.013000\n",
       "..         ...       ...       ...       ...\n",
       "217      7.347  0.364966 -1.153557  4.313080\n",
       "218      7.380  0.368511 -1.183940  4.371044\n",
       "219      7.414  0.386295 -1.197218  4.421756\n",
       "208      7.450  0.449195 -0.864699  3.824955\n",
       "209      7.800  0.421266 -0.891147  3.854178\n",
       "\n",
       "[220 rows x 4 columns]"
      ]
     },
     "execution_count": 142,
     "metadata": {},
     "output_type": "execute_result"
    }
   ],
   "source": [
    "StickPositions"
   ]
  },
  {
   "cell_type": "code",
   "execution_count": 139,
   "metadata": {},
   "outputs": [],
   "source": [
    "def txtsplit(x):\n",
    "    \"\"\"\n",
    "    Splitting the coordinates into seperate x,y,z columns\n",
    "    \"\"\"\n",
    "    return x.split(\",\")[0], x.split(\",\")[1], x.split(\",\")[2]\n",
    "\n",
    "bludrumposition['x'], bludrumposition['y'], bludrumposition['z'] = zip(*bludrumposition['position'].map(txtsplit))\n",
    "RedDrumPositions['x'], RedDrumPositions['y'], RedDrumPositions['z'] = zip(*RedDrumPositions['position'].map(txtsplit))\n",
    "StickPositions['x'], StickPositions['y'], StickPositions['z'] = zip(*StickPositions['position'].map(txtsplit))"
   ]
  },
  {
   "cell_type": "code",
   "execution_count": 140,
   "metadata": {},
   "outputs": [],
   "source": [
    "def time_correction(df):\n",
    "    \"\"\"The first time will be the referrence point till the end of the move\"\"\"\n",
    "    \n",
    "    df['corr_time'] = df['time'].apply(lambda x : float(x)  - int(df.loc[0,'time'].split(\".\")[0]))\n",
    "    return df\n",
    "\n",
    "def clean_df(df):\n",
    "    \"\"\"remove the position and old time columns\"\"\"\n",
    "    df.drop(labels = ['position', 'time'], axis=1, inplace=True) ##removes positiona nd time column\n",
    "    df.sort_values(by=['corr_time'], inplace=True) ##sort the df w.r.t time\n",
    "    for col in df.select_dtypes(include=['object']).columns:\n",
    "        df[col] = df[col].astype('float32')\n",
    "    return df[[ 'corr_time','x', 'y', 'z']]"
   ]
  },
  {
   "cell_type": "code",
   "execution_count": 141,
   "metadata": {},
   "outputs": [],
   "source": [
    "bludrumposition = clean_df(time_correction(bludrumposition))\n",
    "RedDrumPositions = clean_df(time_correction(RedDrumPositions))\n",
    "StickPositions = clean_df(time_correction(StickPositions))"
   ]
  },
  {
   "cell_type": "markdown",
   "metadata": {},
   "source": [
    "#### Calculating the distance between two points in 3d\n",
    "We will use the euclidean distance formula here"
   ]
  },
  {
   "cell_type": "code",
   "execution_count": null,
   "metadata": {},
   "outputs": [],
   "source": [
    "coord1 = [x,y,z]\n",
    "coord2 = [x,y,z]"
   ]
  },
  {
   "cell_type": "code",
   "execution_count": 119,
   "metadata": {},
   "outputs": [],
   "source": [
    "def distance(coord1, coord2):\n",
    "    \"\"\"\n",
    "    the distance between two points\n",
    "    \"\"\"\n",
    "    d = 0\n",
    "    for i in range(1,4):\n",
    "        d = d + (coord1[i] - coord2[i])**2\n",
    "        \n",
    "    d= d**0.5\n",
    "    return d\n",
    "    "
   ]
  },
  {
   "cell_type": "code",
   "execution_count": 128,
   "metadata": {},
   "outputs": [
    {
     "data": {
      "text/html": [
       "<div>\n",
       "<style scoped>\n",
       "    .dataframe tbody tr th:only-of-type {\n",
       "        vertical-align: middle;\n",
       "    }\n",
       "\n",
       "    .dataframe tbody tr th {\n",
       "        vertical-align: top;\n",
       "    }\n",
       "\n",
       "    .dataframe thead th {\n",
       "        text-align: right;\n",
       "    }\n",
       "</style>\n",
       "<table border=\"1\" class=\"dataframe\">\n",
       "  <thead>\n",
       "    <tr style=\"text-align: right;\">\n",
       "      <th></th>\n",
       "      <th>corr_time</th>\n",
       "      <th>x</th>\n",
       "      <th>y</th>\n",
       "      <th>z</th>\n",
       "    </tr>\n",
       "  </thead>\n",
       "  <tbody>\n",
       "    <tr>\n",
       "      <th>0</th>\n",
       "      <td>0.138</td>\n",
       "      <td>1.150916</td>\n",
       "      <td>0.084453</td>\n",
       "      <td>4.843122</td>\n",
       "    </tr>\n",
       "  </tbody>\n",
       "</table>\n",
       "</div>"
      ],
      "text/plain": [
       "   corr_time         x         y         z\n",
       "0      0.138  1.150916  0.084453  4.843122"
      ]
     },
     "execution_count": 128,
     "metadata": {},
     "output_type": "execute_result"
    }
   ],
   "source": [
    "# StickPositions\n",
    "bludrumposition.head(1)\n",
    "# RedDrumPositions"
   ]
  },
  {
   "cell_type": "code",
   "execution_count": 133,
   "metadata": {},
   "outputs": [],
   "source": [
    "df_distance = pd.DataFrame(columns=['time','distance_BD_ST', 'distance_RD_ST', 'distance_RD_BD'])\n",
    "\n",
    "for (_,p),(_,q),(_,r) in zip(StickPositions.iterrows(), bludrumposition.iterrows(), RedDrumPositions.iterrows()):\n",
    "#     print (p,q,r, sep= \"\\n--------------\\n\")\n",
    "    df_distance.loc[_,'time'] = StickPositions.loc[_,'corr_time']\n",
    "    df_distance.loc[_,'distance_BD_ST'] = distance(tuple(p.to_list()), tuple(q.to_list()))\n",
    "    df_distance.loc[_,'distance_RD_ST'] = distance(tuple(p.to_list()), tuple(r.to_list()))\n",
    "    df_distance.loc[_,'distance_RD_BD'] = distance(tuple(q.to_list()), tuple(r.to_list()))\n"
   ]
  },
  {
   "cell_type": "code",
   "execution_count": 135,
   "metadata": {},
   "outputs": [],
   "source": [
    "# df_distance"
   ]
  },
  {
   "cell_type": "markdown",
   "metadata": {},
   "source": [
    "Plotting a line plot for distance vs Time"
   ]
  },
  {
   "cell_type": "code",
   "execution_count": 143,
   "metadata": {},
   "outputs": [
    {
     "data": {
      "text/plain": [
       "<matplotlib.lines.Line2D at 0x1b237e4e550>"
      ]
     },
     "execution_count": 143,
     "metadata": {},
     "output_type": "execute_result"
    },
    {
     "data": {
      "image/png": "[encoded data removed]",
      "text/plain": [
       "<Figure size 1296x288 with 1 Axes>"
      ]
     },
     "metadata": {},
     "output_type": "display_data"
    }
   ],
   "source": [
    "df_distance.set_index(keys=['time']).plot(figsize=(18,4));\n",
    "plt.axvline(7.8)"
   ]
  },
  {
   "cell_type": "code",
   "execution_count": 24,
   "metadata": {},
   "outputs": [
    {
     "data": {
      "text/html": [
       "<div>\n",
       "<style scoped>\n",
       "    .dataframe tbody tr th:only-of-type {\n",
       "        vertical-align: middle;\n",
       "    }\n",
       "\n",
       "    .dataframe tbody tr th {\n",
       "        vertical-align: top;\n",
       "    }\n",
       "\n",
       "    .dataframe thead th {\n",
       "        text-align: right;\n",
       "    }\n",
       "</style>\n",
       "<table border=\"1\" class=\"dataframe\">\n",
       "  <thead>\n",
       "    <tr style=\"text-align: right;\">\n",
       "      <th></th>\n",
       "      <th>corr_time</th>\n",
       "      <th>x</th>\n",
       "      <th>y</th>\n",
       "      <th>z</th>\n",
       "    </tr>\n",
       "  </thead>\n",
       "  <tbody>\n",
       "    <tr>\n",
       "      <th>0</th>\n",
       "      <td>0.138</td>\n",
       "      <td>-1.49</td>\n",
       "      <td>0.0</td>\n",
       "      <td>-0.013</td>\n",
       "    </tr>\n",
       "    <tr>\n",
       "      <th>1</th>\n",
       "      <td>0.143</td>\n",
       "      <td>-1.49</td>\n",
       "      <td>0.0</td>\n",
       "      <td>-0.013</td>\n",
       "    </tr>\n",
       "  </tbody>\n",
       "</table>\n",
       "</div>"
      ],
      "text/plain": [
       "   corr_time     x    y      z\n",
       "0      0.138 -1.49  0.0 -0.013\n",
       "1      0.143 -1.49  0.0 -0.013"
      ]
     },
     "execution_count": 24,
     "metadata": {},
     "output_type": "execute_result"
    }
   ],
   "source": [
    "StickPositions.head(2)"
   ]
  },
  {
   "cell_type": "code",
   "execution_count": 25,
   "metadata": {},
   "outputs": [
    {
     "data": {
      "text/html": [
       "<div>\n",
       "<style scoped>\n",
       "    .dataframe tbody tr th:only-of-type {\n",
       "        vertical-align: middle;\n",
       "    }\n",
       "\n",
       "    .dataframe tbody tr th {\n",
       "        vertical-align: top;\n",
       "    }\n",
       "\n",
       "    .dataframe thead th {\n",
       "        text-align: right;\n",
       "    }\n",
       "</style>\n",
       "<table border=\"1\" class=\"dataframe\">\n",
       "  <thead>\n",
       "    <tr style=\"text-align: right;\">\n",
       "      <th></th>\n",
       "      <th>corr_time</th>\n",
       "      <th>x</th>\n",
       "      <th>y</th>\n",
       "      <th>z</th>\n",
       "    </tr>\n",
       "  </thead>\n",
       "  <tbody>\n",
       "    <tr>\n",
       "      <th>0</th>\n",
       "      <td>0.138</td>\n",
       "      <td>1.150916</td>\n",
       "      <td>0.084453</td>\n",
       "      <td>4.843122</td>\n",
       "    </tr>\n",
       "    <tr>\n",
       "      <th>1</th>\n",
       "      <td>0.143</td>\n",
       "      <td>1.149783</td>\n",
       "      <td>0.094054</td>\n",
       "      <td>4.845031</td>\n",
       "    </tr>\n",
       "  </tbody>\n",
       "</table>\n",
       "</div>"
      ],
      "text/plain": [
       "   corr_time         x         y         z\n",
       "0      0.138  1.150916  0.084453  4.843122\n",
       "1      0.143  1.149783  0.094054  4.845031"
      ]
     },
     "execution_count": 25,
     "metadata": {},
     "output_type": "execute_result"
    }
   ],
   "source": [
    "bludrumposition.head(2)"
   ]
  }
 ],
 "metadata": {
  "kernelspec": {
   "display_name": "Python 3",
   "language": "python",
   "name": "python3"
  },
  "language_info": {
   "codemirror_mode": {
    "name": "ipython",
    "version": 3
   },
   "file_extension": ".py",
   "mimetype": "text/x-python",
   "name": "python",
   "nbconvert_exporter": "python",
   "pygments_lexer": "ipython3",
   "version": "3.8.5"
  }
 },
 "nbformat": 4,
 "nbformat_minor": 4
}
